{
 "cells": [
  {
   "cell_type": "code",
   "execution_count": null,
   "metadata": {},
   "outputs": [],
   "source": [
    "import numpy as np\n",
    "import pandas as pd\n",
    "import matplotlib.pyplot as plt\n",
    "import pymongo as mongo\n",
    "import json"
   ]
  },
  {
   "cell_type": "code",
   "execution_count": null,
   "metadata": {},
   "outputs": [],
   "source": [
    "def get_data(keyword):\n",
    "    myclient = mongo.MongoClient(\"mongodb://localhost:27017/\")\n",
    "    mydb = myclient[\"Storm\"]\n",
    "    mycol = mydb[\"Responses\"]\n",
    "    x = mycol.find({\"keyword\":keyword})\n",
    "    return x"
   ]
  },
  {
   "cell_type": "code",
   "execution_count": null,
   "metadata": {},
   "outputs": [],
   "source": [
    "def draw_graph(x,y):\n",
    "    for i in y:\n",
    "        plt.plot(x[i],y[i],marker = 'o')\n",
    "    plt.xlabel('Time (Seconds)')\n",
    "    plt.ylabel('Tuples Processed / Second')\n",
    "    plt.title('Tuples Processed ')\n",
    "    plt.show()"
   ]
  },
  {
   "cell_type": "code",
   "execution_count": null,
   "metadata": {},
   "outputs": [],
   "source": [
    "def get_wordcount_tuples(response):\n",
    "    arr = response[\"bolts\"]\n",
    "    for i in arr:\n",
    "        if i[\"boltId\"] == \"count\":\n",
    "            return i[\"executed\"]\n",
    "    return 0\n",
    "\n",
    "def get_exclaimation_tuples(response):\n",
    "    arr = response[\"bolts\"]\n",
    "    for i in arr:\n",
    "        if i[\"boltId\"] == \"exclaim2\":\n",
    "            return i[\"executed\"]\n",
    "    return 0"
   ]
  },
  {
   "cell_type": "code",
   "execution_count": null,
   "metadata": {},
   "outputs": [],
   "source": [
    "def get_uptime(response):\n",
    "    return response[\"uptimeSeconds\"]"
   ]
  },
  {
   "cell_type": "code",
   "execution_count": null,
   "metadata": {},
   "outputs": [],
   "source": [
    "def main():\n",
    "    topology = 0\n",
    "    print(\"Press 1 for wordcount\")\n",
    "    print(\"Press 2 for exclaimation\")\n",
    "    topology = input(\"Enter:\")\n",
    "    keyword = input(\"Please enter keyword:\")\n",
    "\n",
    "    data = get_data(keyword)\n",
    "\n",
    "    time = {}\n",
    "    tuples = {}\n",
    "\n",
    "    intial_time = 0\n",
    "    if topology == \"1\":\n",
    "        for i in data:\n",
    "            response_str = i[\"Response\"]    \n",
    "            response = json.loads(response_str)\n",
    "            \n",
    "            if i[\"jobID\"] not in tuples:\n",
    "                tuples[i[\"jobID\"]] = []\n",
    "                time[i[\"jobID\"]] = []\n",
    "                initial_time = get_uptime(response)\n",
    "                \n",
    "            tuples[i[\"jobID\"]].append(get_wordcount_tuples(response))\n",
    "            time[i[\"jobID\"]].append(get_uptime(response)-initial_time)\n",
    "    elif topology == \"2\":\n",
    "        for i in data:\n",
    "            response_str = i[\"Response\"]    \n",
    "            response = json.loads(response_str)\n",
    "            \n",
    "            if i[\"jobID\"] not in tuples:\n",
    "                tuples[i[\"jobID\"]] = []\n",
    "                time[i[\"jobID\"]] = []\n",
    "                initial_time = get_uptime(response)\n",
    "            \n",
    "            tuples[i[\"jobID\"]].append(get_exclaimation_tuples(response))\n",
    "            time[i[\"jobID\"]].append(get_uptime(response)-initial_time)\n",
    "\n",
    "    draw_graph(time,tuples)"
   ]
  },
  {
   "cell_type": "code",
   "execution_count": null,
   "metadata": {},
   "outputs": [],
   "source": [
    "main()"
   ]
  }
 ],
 "metadata": {
  "kernelspec": {
   "display_name": "Python 3 (ipykernel)",
   "language": "python",
   "name": "python3"
  },
  "language_info": {
   "codemirror_mode": {
    "name": "ipython",
    "version": 3
   },
   "file_extension": ".py",
   "mimetype": "text/x-python",
   "name": "python",
   "nbconvert_exporter": "python",
   "pygments_lexer": "ipython3",
   "version": "3.9.7"
  },
  "vscode": {
   "interpreter": {
    "hash": "e7370f93d1d0cde622a1f8e1c04877d8463912d04d973331ad4851f04de6915a"
   }
  }
 },
 "nbformat": 4,
 "nbformat_minor": 2
}
